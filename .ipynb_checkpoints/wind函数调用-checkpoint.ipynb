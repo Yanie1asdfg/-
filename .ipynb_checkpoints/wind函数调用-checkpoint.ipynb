{
 "cells": [
  {
   "cell_type": "code",
   "execution_count": null,
   "metadata": {},
   "outputs": [],
   "source": []
  },
  {
   "cell_type": "markdown",
   "metadata": {},
   "source": [
    "### 获取日时间序列函数WSD"
   ]
  },
  {
   "cell_type": "code",
   "execution_count": null,
   "metadata": {},
   "outputs": [],
   "source": [
    "w.wsd（codes, fields, beginTime, endTime, options）"
   ]
  },
  {
   "cell_type": "markdown",
   "metadata": {},
   "source": [
    "支持股票、债券、基金、期货、指数等多种证券的基本资料、股东信息、市场行情、证券分析、预测评级、财务数据等各种数据。  \n",
    "wsd可以支持取 多品种单指标 或者 单品种多指标 的时间序列数据。"
   ]
  },
  {
   "cell_type": "markdown",
   "metadata": {},
   "source": [
    "### 获取日截面数据函数WSS"
   ]
  },
  {
   "cell_type": "code",
   "execution_count": null,
   "metadata": {},
   "outputs": [],
   "source": [
    "w.wss（codes, fields, option）"
   ]
  },
  {
   "cell_type": "markdown",
   "metadata": {},
   "source": [
    "同样支持股票、债券、基金、期货、指数等多种证券的基本资料、股东信息、市场行情、证券分析、预测评级、财务数据等各种数据。   \n",
    "但是WSS支持取多品种多指标某个时间点的截面数据。"
   ]
  },
  {
   "cell_type": "markdown",
   "metadata": {},
   "source": [
    "### 获取分钟序列数据函数WSI"
   ]
  },
  {
   "cell_type": "code",
   "execution_count": null,
   "metadata": {},
   "outputs": [],
   "source": [
    "w.wsi(codes, fields, beginTime, endTime, options)"
   ]
  },
  {
   "cell_type": "markdown",
   "metadata": {},
   "source": [
    "用来获取国内七个交易所（上海交易所、深圳交易所、郑商所、上金所、上期所、大商所、上金所）证券品种的分钟线数据，  \n",
    "包含基本行情和部分技术指标的分钟数据，分钟周期为1-60min，技术指标参数可以自定义设置。"
   ]
  },
  {
   "cell_type": "markdown",
   "metadata": {},
   "source": [
    "### 获取日内tick数据函数WST"
   ]
  },
  {
   "cell_type": "code",
   "execution_count": null,
   "metadata": {},
   "outputs": [],
   "source": [
    "w.wst(codes, fields, beginTime, endTime, options)"
   ]
  },
  {
   "cell_type": "markdown",
   "metadata": {},
   "source": [
    "用获取国内七个交易所（上海交易所、深圳交易所、郑商所、上金所、上期所、大商所、上金所）证券品种的日内盘口买卖五档快照数据和分时成交数据(tick数据)."
   ]
  },
  {
   "cell_type": "markdown",
   "metadata": {},
   "source": [
    "### 实时行情数据函数 WSQ"
   ]
  },
  {
   "cell_type": "code",
   "execution_count": null,
   "metadata": {},
   "outputs": [],
   "source": [
    "w.wsq（codes, fields, options, func)"
   ]
  },
  {
   "cell_type": "markdown",
   "metadata": {},
   "source": [
    "用来获取股票、债券、基金、期货、指数等选定证券品种的当天指标实时数据，可以一次性请求实时快照数据，也可以通过订阅的方式获取实时数据。"
   ]
  },
  {
   "cell_type": "markdown",
   "metadata": {},
   "source": [
    "### 获取板块日序列数据函数WSES"
   ]
  },
  {
   "cell_type": "code",
   "execution_count": null,
   "metadata": {},
   "outputs": [],
   "source": [
    "w.wses(codes, fields, beginTime, endTime, options)"
   ]
  },
  {
   "cell_type": "markdown",
   "metadata": {},
   "source": [
    "用来获取沪深股票、香港股票、全球股票的板块的历史日序列数据，包括依据板块个股数据计算的板块日行情数据、基本面数据以及盈利预测数据等。"
   ]
  },
  {
   "cell_type": "markdown",
   "metadata": {},
   "source": [
    "### 获取板块日截面数据函数WSEE"
   ]
  },
  {
   "cell_type": "code",
   "execution_count": null,
   "metadata": {},
   "outputs": [],
   "source": [
    "w.wsee(codes, fields, options)"
   ]
  },
  {
   "cell_type": "markdown",
   "metadata": {},
   "source": [
    "获取沪深股票、香港股票、全球股票选定板块的历史日截面数据，比如取全部A股板块的平均行情数据、平均财务数据等。"
   ]
  },
  {
   "cell_type": "markdown",
   "metadata": {},
   "source": [
    "### 获取报表数据函数WSET"
   ]
  },
  {
   "cell_type": "code",
   "execution_count": null,
   "metadata": {},
   "outputs": [],
   "source": [
    "w.wset(tableName, options)"
   ]
  },
  {
   "cell_type": "markdown",
   "metadata": {},
   "source": [
    "用来获取数据集信息，包括板块成分、指数成分、ETF申赎成分信息、分级基金明细、融资标的、融券标的、融资融券担保品、回购担保品、停牌股票、复牌股票、分红送转等报表数据。"
   ]
  },
  {
   "cell_type": "markdown",
   "metadata": {},
   "source": [
    "### 获取全球宏观经济数据函数EDB"
   ]
  },
  {
   "cell_type": "code",
   "execution_count": null,
   "metadata": {},
   "outputs": [],
   "source": [
    "w.edb(codes, beginTime, endTime, options)"
   ]
  },
  {
   "cell_type": "markdown",
   "metadata": {},
   "source": [
    "用来获取Wind宏观经济数据库中的数据信息，为用户提供了一个方便查看及导出宏观/行业板块数据的工具。宏观经济数据库现在包括中国宏观经济、全球宏观经济、行业经济数据、商品数据、利率数据这几大类。"
   ]
  },
  {
   "cell_type": "markdown",
   "metadata": {},
   "source": [
    "### 获取历史新闻数据函数WND"
   ]
  },
  {
   "cell_type": "code",
   "execution_count": null,
   "metadata": {},
   "outputs": [],
   "source": [
    "w.wnd(codes, beginTime, endTime, options)"
   ]
  },
  {
   "cell_type": "markdown",
   "metadata": {},
   "source": [
    "用来获取指定证券品种或行业板块的历史新闻数据，包括新闻标题、发布时间、新闻链接、新闻摘要等内容。用来获取指定证券品种或行业板块的历史新闻数据，包括新闻标题、发布时间、新闻链接、新闻摘要等内容。"
   ]
  },
  {
   "cell_type": "markdown",
   "metadata": {},
   "source": [
    "### 获取实时新闻数据函数WNQ"
   ]
  },
  {
   "cell_type": "code",
   "execution_count": null,
   "metadata": {},
   "outputs": [],
   "source": [
    "w.wnq(codes, options, func)"
   ]
  },
  {
   "cell_type": "markdown",
   "metadata": {},
   "source": [
    "用来获取指定证券品种或行业板块的实时新闻数据，包括新闻标题、发布时间、新闻链接、新闻摘要等内容，可以一次性请求实时快照数据，也可以通过订阅的方式获取实时新闻数据。"
   ]
  },
  {
   "cell_type": "code",
   "execution_count": null,
   "metadata": {},
   "outputs": [],
   "source": []
  }
 ],
 "metadata": {
  "kernelspec": {
   "display_name": "Python 3",
   "language": "python",
   "name": "python3"
  },
  "language_info": {
   "codemirror_mode": {
    "name": "ipython",
    "version": 3
   },
   "file_extension": ".py",
   "mimetype": "text/x-python",
   "name": "python",
   "nbconvert_exporter": "python",
   "pygments_lexer": "ipython3",
   "version": "3.7.1"
  }
 },
 "nbformat": 4,
 "nbformat_minor": 4
}
