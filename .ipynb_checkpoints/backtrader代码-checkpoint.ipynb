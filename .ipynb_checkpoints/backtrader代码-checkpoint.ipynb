{
 "cells": [
  {
   "cell_type": "markdown",
   "metadata": {},
   "source": [
    "### 导入模块"
   ]
  },
  {
   "cell_type": "code",
   "execution_count": null,
   "metadata": {},
   "outputs": [],
   "source": [
    "import pandas as pd  \n",
    "from datetime import datetime\n",
    "import backtrader as bt\n",
    "import matplotlib.pyplot as plt"
   ]
  },
  {
   "cell_type": "markdown",
   "metadata": {},
   "source": [
    "### params"
   ]
  },
  {
   "cell_type": "code",
   "execution_count": null,
   "metadata": {},
   "outputs": [],
   "source": [
    "#添加移动均线指标，内置了talib模块、\n",
    "params=(('maperiod',20),)\n",
    "self.sma = bt.indicators.SimpleMovingAverage(self.datas[0], period=self.params.maperiod)"
   ]
  },
  {
   "cell_type": "markdown",
   "metadata": {},
   "source": [
    "### next"
   ]
  },
  {
   "cell_type": "code",
   "execution_count": null,
   "metadata": {},
   "outputs": [],
   "source": [
    "# 检查是否有指令等待执行, \n",
    "if self.order: \n",
    "    return"
   ]
  },
  {
   "cell_type": "code",
   "execution_count": null,
   "metadata": {},
   "outputs": [],
   "source": [
    "# 检查是否持仓   \n",
    "if not self.position: # 没有持仓\n",
    "    ...\n",
    "else:\n",
    "    ..."
   ]
  },
  {
   "cell_type": "code",
   "execution_count": null,
   "metadata": {},
   "outputs": [],
   "source": [
    "#执行买入条件判断：收盘价格上涨突破20日均线\n",
    "if self.dataclose[0] > self.sma[0]:"
   ]
  },
  {
   "cell_type": "code",
   "execution_count": null,
   "metadata": {},
   "outputs": [],
   "source": [
    "#执行买入\n",
    "self.order = self.buy(size=500)   \n",
    "---------------------------------\n",
    "# 还没买，如果 MA5 > MA10 说明涨势，买入\n",
    "if self.sma5[0] > self.sma10[0]:\n",
    "    self.log('BUY CREATE, %.2f' % self.dataclose[0])\n",
    "    self.order = self.buy()"
   ]
  },
  {
   "cell_type": "code",
   "execution_count": null,
   "metadata": {},
   "outputs": [],
   "source": [
    "#执行卖出\n",
    "self.order = self.sell(size=500)"
   ]
  },
  {
   "cell_type": "code",
   "execution_count": null,
   "metadata": {},
   "outputs": [],
   "source": [
    "# 记录收盘价\n",
    "self.log('Close, %.2f' % self.dataclose[0])"
   ]
  },
  {
   "cell_type": "markdown",
   "metadata": {},
   "source": [
    "### notify_order"
   ]
  },
  {
   "cell_type": "code",
   "execution_count": null,
   "metadata": {},
   "outputs": [],
   "source": [
    "def notify_order(self, order):\n",
    "    \"\"\"\n",
    "    订单状态处理\n",
    "\n",
    "    Arguments:\n",
    "        order {object} -- 订单状态\n",
    "    \"\"\"\n",
    "    if order.status in [order.Submitted, order.Accepted]:\n",
    "        # 如订单已被处理，则不用做任何事情\n",
    "        return\n",
    "\n",
    "    # 检查订单是否完成\n",
    "    if order.status in [order.Completed]:\n",
    "        if order.isbuy():\n",
    "            self.buyprice = order.executed.price\n",
    "            self.buycomm = order.executed.comm\n",
    "        self.bar_executed = len(self)\n",
    "\n",
    "    # 订单因为缺少资金之类的原因被拒绝执行\n",
    "    elif order.status in [order.Canceled, order.Margin, order.Rejected]:\n",
    "        self.log('Order Canceled/Margin/Rejected')\n",
    "\n",
    "    # 订单状态处理完成，设为空\n",
    "    self.order = None"
   ]
  },
  {
   "cell_type": "markdown",
   "metadata": {},
   "source": [
    "### notify_trade"
   ]
  },
  {
   "cell_type": "code",
   "execution_count": null,
   "metadata": {},
   "outputs": [],
   "source": [
    "def notify_trade(self, trade):\n",
    "    \"\"\"\n",
    "    交易成果\n",
    "\n",
    "    Arguments:\n",
    "        trade {object} -- 交易状态\n",
    "    \"\"\"\n",
    "    if not trade.isclosed:\n",
    "        return\n",
    "\n",
    "    # 显示交易的毛利率和净利润\n",
    "    self.log('OPERATION PROFIT, GROSS %.2f, NET %.2f' %\n",
    "             (trade.pnl, trade.pnlcomm), doprint=True)"
   ]
  },
  {
   "cell_type": "markdown",
   "metadata": {},
   "source": [
    "### feeds"
   ]
  },
  {
   "cell_type": "code",
   "execution_count": null,
   "metadata": {},
   "outputs": [],
   "source": [
    "# 加载数据\n",
    "data = bt.feeds.PandasData(dataname=dataframe,fromdate=start,todate=end)"
   ]
  },
  {
   "cell_type": "markdown",
   "metadata": {},
   "source": [
    "### Cerebro"
   ]
  },
  {
   "cell_type": "code",
   "execution_count": null,
   "metadata": {},
   "outputs": [],
   "source": [
    "# 初始化cerebro回测系统设置                           \n",
    "cerebro = bt.Cerebro()  \n",
    "#将数据传入回测系统\n",
    "cerebro.adddata(data) \n",
    "# 将交易策略加载到回测系统中\n",
    "cerebro.addstrategy(my_strategy1) \n",
    "# 设置初始资本为10,000\n",
    "startcash = 10000\n",
    "cerebro.broker.setcash(startcash) \n",
    "# 设置交易手续费为 0.03%\n",
    "cerebro.broker.setcommission(commission=0.0003)\n",
    "#运行回测系统\n",
    "cerebro.run()\n",
    "#获取回测结束后的总资金\n",
    "portvalue = cerebro.broker.getvalue()\n",
    "pnl = portvalue - startcash #盈亏"
   ]
  },
  {
   "cell_type": "markdown",
   "metadata": {},
   "source": [
    "### print"
   ]
  },
  {
   "cell_type": "code",
   "execution_count": null,
   "metadata": {},
   "outputs": [],
   "source": [
    "print(f'初始资金: {startcash}\\n回测期间：{d1}:{d2}')"
   ]
  },
  {
   "cell_type": "code",
   "execution_count": null,
   "metadata": {},
   "outputs": [],
   "source": [
    "print(f'总资金: {round(portvalue,2)}')"
   ]
  },
  {
   "cell_type": "markdown",
   "metadata": {},
   "source": [
    "### Plot"
   ]
  },
  {
   "cell_type": "code",
   "execution_count": null,
   "metadata": {},
   "outputs": [],
   "source": [
    "cerebro.plot(style='candlestick')"
   ]
  },
  {
   "cell_type": "code",
   "execution_count": null,
   "metadata": {},
   "outputs": [],
   "source": [
    "#正常显示画图时出现的中文和负号\n",
    "from pylab import mpl\n",
    "mpl.rcParams['font.sans-serif']=['SimHei']"
   ]
  },
  {
   "cell_type": "code",
   "execution_count": null,
   "metadata": {},
   "outputs": [],
   "source": [
    "图形大小控制，买入卖出点控制，回测曲线修正，夏普比率等指标控制"
   ]
  },
  {
   "cell_type": "markdown",
   "metadata": {},
   "source": [
    "### log"
   ]
  },
  {
   "cell_type": "code",
   "execution_count": null,
   "metadata": {},
   "outputs": [],
   "source": [
    "def log(self, txt, dt=None, doprint=False):\n",
    "    ''' 日志函数，用于统一输出日志格式 '''\n",
    "    if doprint:\n",
    "        dt = dt or self.datas[0].datetime.date(0)\n",
    "        print('%s, %s' % (dt.isoformat(), txt))"
   ]
  }
 ],
 "metadata": {
  "kernelspec": {
   "display_name": "Python 3",
   "language": "python",
   "name": "python3"
  },
  "language_info": {
   "codemirror_mode": {
    "name": "ipython",
    "version": 3
   },
   "file_extension": ".py",
   "mimetype": "text/x-python",
   "name": "python",
   "nbconvert_exporter": "python",
   "pygments_lexer": "ipython3",
   "version": "3.7.1"
  }
 },
 "nbformat": 4,
 "nbformat_minor": 4
}
